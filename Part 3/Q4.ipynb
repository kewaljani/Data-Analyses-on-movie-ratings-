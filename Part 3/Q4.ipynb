{
 "cells": [
  {
   "cell_type": "code",
   "execution_count": 4,
   "metadata": {},
   "outputs": [
    {
     "data": {
      "text/plain": [
       "array([[nan, nan, 4. , ..., 1. , 0. , 1. ],\n",
       "       [nan, nan, 1.5, ..., 1. , 0. , 0. ],\n",
       "       [nan, nan, nan, ..., 1. , 1. , 0. ],\n",
       "       ...,\n",
       "       [nan, nan, nan, ..., 1. , 0. , 0. ],\n",
       "       [nan, nan, nan, ..., 1. , 0. , 1. ],\n",
       "       [nan, nan, 4. , ..., 1. , 0. , 1. ]])"
      ]
     },
     "execution_count": 4,
     "metadata": {},
     "output_type": "execute_result"
    }
   ],
   "source": [
    "import warnings\n",
    "warnings.filterwarnings('ignore')\n",
    "import sys\n",
    "\n",
    "import numpy as np\n",
    "#np.set_printoptions(threshold=sys.maxsize)\n",
    "from scipy import stats\n",
    "import matplotlib.pyplot as plt\n",
    "import pandas as pd\n",
    "from sklearn.decomposition import PCA\n",
    "from sklearn.cluster import KMeans\n",
    "import sklearn.cluster as cluster\n",
    "from sklearn.metrics import silhouette_samples\n",
    "data = np.genfromtxt('movieReplicationSet.csv', delimiter = ',',skip_header = 1)\n",
    "data"
   ]
  },
  {
   "cell_type": "code",
   "execution_count": null,
   "metadata": {},
   "outputs": [],
   "source": []
  },
  {
   "cell_type": "code",
   "execution_count": 5,
   "metadata": {},
   "outputs": [
    {
     "data": {
      "text/plain": [
       "(1097, 10)"
      ]
     },
     "execution_count": 5,
     "metadata": {},
     "output_type": "execute_result"
    }
   ],
   "source": [
    "Question = [4, 39, 9, 44, 13, 48, 49, 53, 23, 24]\n",
    "\n",
    "selected = np.empty((1097,len(Question)))\n",
    "selected\n",
    "count = 0\n",
    "for i in Question:\n",
    "    selected[:,count:count+1] = data[:,i:i+1]\n",
    "    count+=1\n",
    "selected.shape"
   ]
  },
  {
   "cell_type": "code",
   "execution_count": 6,
   "metadata": {},
   "outputs": [
    {
     "data": {
      "text/plain": [
       "(400, 1097)"
      ]
     },
     "execution_count": 6,
     "metadata": {},
     "output_type": "execute_result"
    }
   ],
   "source": [
    "p_value = []\n",
    "count = 0\n",
    "sum = 0\n",
    "a = np.empty((1097,400))\n",
    "for i in range(400):\n",
    "    temp = data[:,i:i+1]\n",
    "    temp2  = np.isfinite(data[:,i:i+1])\n",
    "    temp = temp[temp2]\n",
    "    avg = np.median(temp)\n",
    "    #print(avg)\n",
    "    for j in range(len(temp2)):\n",
    "        if temp2[j] == True:\n",
    "            a[j][i] = data[j,i]\n",
    "        else:\n",
    "            a[j][i] = avg\n",
    "a = np.abs(a.T) \n",
    "a.shape\n"
   ]
  },
  {
   "cell_type": "code",
   "execution_count": 7,
   "metadata": {},
   "outputs": [
    {
     "data": {
      "text/plain": [
       "(1097, 54)"
      ]
     },
     "execution_count": 7,
     "metadata": {},
     "output_type": "execute_result"
    }
   ],
   "source": [
    "temp = np.empty((1097,len(Question)))\n",
    "b = np.empty((1097,54))\n",
    "for i in range(421,475):\n",
    "    temp = data[:,i:i+1]\n",
    "    #print(temp)\n",
    "    temp2  = np.isfinite(data[:,i:i+1])\n",
    "    temp = temp[temp2]\n",
    "    avg = np.median(temp)\n",
    "    \n",
    "    for j in range(len(temp2)):\n",
    "        if temp2[j] == True:\n",
    "            b[j][i-421] = data[j,i]\n",
    "        else:\n",
    "            b[j][i-421] = avg\n",
    "b.shape"
   ]
  },
  {
   "cell_type": "code",
   "execution_count": 8,
   "metadata": {},
   "outputs": [
    {
     "name": "stdout",
     "output_type": "stream",
     "text": [
      "(877, 10) (220, 10) (877, 400) (220, 400)\n"
     ]
    }
   ],
   "source": [
    "from sklearn.model_selection import train_test_split\n",
    "# create dataset\n",
    "a = np.round(a)\n",
    "b = np.round(b)\n",
    "X, y = b[:,0:10],a.T[:,0:400]\n",
    "# split into train test sets\n",
    "X_train, X_test, y_train, y_test = train_test_split(X, y, test_size=0.2)\n",
    "print(X_train.shape, X_test.shape, y_train.shape, y_test.shape)"
   ]
  },
  {
   "cell_type": "code",
   "execution_count": 26,
   "metadata": {},
   "outputs": [
    {
     "name": "stdout",
     "output_type": "stream",
     "text": [
      "0.8326931818181817\n"
     ]
    }
   ],
   "source": [
    "from sklearn.ensemble import RandomForestClassifier\n",
    "from sklearn.metrics import f1_score\n",
    "from sklearn.preprocessing import label_binarize\n",
    "from sklearn.metrics import roc_auc_score\n",
    "accuracy_score = []\n",
    "clf = RandomForestClassifier(max_depth=2, random_state=0)\n",
    "clf.fit(X_train, y_train)\n",
    "y_pred = clf.predict(X_test)\n",
    "y_pred\n",
    "for tru,pred in zip (y_test, y_pred):\n",
    "     accuracy_score.append(f1_score(tru,pred,average='micro' ))\n",
    "print(np.mean(accuracy_score))\n",
    "#from sklearn.metrics import roc_auc_score\n",
    "#y = label_binarize(y_test[:,0], classes=[0, 1, 2,3,4])\n",
    "#rint(y)p\n",
    "#roc_auc_score(y, y_pred[:,0])"
   ]
  },
  {
   "cell_type": "code",
   "execution_count": null,
   "metadata": {},
   "outputs": [],
   "source": []
  },
  {
   "cell_type": "code",
   "execution_count": null,
   "metadata": {},
   "outputs": [],
   "source": []
  },
  {
   "cell_type": "code",
   "execution_count": null,
   "metadata": {},
   "outputs": [],
   "source": []
  }
 ],
 "metadata": {
  "kernelspec": {
   "display_name": "Python 3",
   "language": "python",
   "name": "python3"
  },
  "language_info": {
   "codemirror_mode": {
    "name": "ipython",
    "version": 3
   },
   "file_extension": ".py",
   "mimetype": "text/x-python",
   "name": "python",
   "nbconvert_exporter": "python",
   "pygments_lexer": "ipython3",
   "version": "3.7.1"
  }
 },
 "nbformat": 4,
 "nbformat_minor": 4
}
