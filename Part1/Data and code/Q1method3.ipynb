{
 "cells": [
  {
   "cell_type": "code",
   "execution_count": 1,
   "metadata": {},
   "outputs": [],
   "source": [
    "import numpy as np\n",
    "from scipy import stats\n",
    "import matplotlib.pyplot as plt\n",
    "data = np.genfromtxt('movieReplicationSet.csv', delimiter = ',',)"
   ]
  },
  {
   "cell_type": "code",
   "execution_count": 2,
   "metadata": {},
   "outputs": [
    {
     "name": "stdout",
     "output_type": "stream",
     "text": [
      "Django Unchained (2012)\n"
     ]
    }
   ],
   "source": [
    "import pandas as pd\n",
    "df = pd.read_csv('movieReplicationSet.csv',skipinitialspace=True)\n",
    "titles = df.columns[0:400]\n",
    "titles = titles.values.tolist()\n",
    "print(titles[2])"
   ]
  },
  {
   "cell_type": "code",
   "execution_count": 3,
   "metadata": {},
   "outputs": [],
   "source": [
    "fixed1 = data[:,2:3]\n",
    "fixed = np.isfinite(data[:,2:3])\n",
    "fixed = fixed1[fixed]\n"
   ]
  },
  {
   "cell_type": "code",
   "execution_count": 4,
   "metadata": {},
   "outputs": [
    {
     "name": "stdout",
     "output_type": "stream",
     "text": [
      "0.009900645024724312\n"
     ]
    }
   ],
   "source": [
    "p_value = []\n",
    "count = 0\n",
    "sum = 0\n",
    "for i in range(400):\n",
    "    temp = data[:,i:i+1]\n",
    "    temp2  = np.isfinite(data[:,i:i+1])\n",
    "    temp = temp[temp2]\n",
    "    if len(temp)<197.5:\n",
    "        b,p = stats.kruskal(temp,fixed)\n",
    "        sum += p \n",
    "        count+=1\n",
    "print(sum/count)"
   ]
  },
  {
   "cell_type": "code",
   "execution_count": null,
   "metadata": {},
   "outputs": [],
   "source": []
  }
 ],
 "metadata": {
  "kernelspec": {
   "display_name": "Python 3",
   "language": "python",
   "name": "python3"
  },
  "language_info": {
   "codemirror_mode": {
    "name": "ipython",
    "version": 3
   },
   "file_extension": ".py",
   "mimetype": "text/x-python",
   "name": "python",
   "nbconvert_exporter": "python",
   "pygments_lexer": "ipython3",
   "version": "3.7.1"
  }
 },
 "nbformat": 4,
 "nbformat_minor": 4
}
