{
 "cells": [
  {
   "cell_type": "code",
   "execution_count": 1,
   "metadata": {},
   "outputs": [],
   "source": [
    "import numpy as np\n",
    "from scipy import stats\n",
    "import matplotlib.pyplot as plt\n",
    "data = np.genfromtxt('movieReplicationSet.csv', delimiter = ',',skip_header = 1)"
   ]
  },
  {
   "cell_type": "code",
   "execution_count": 2,
   "metadata": {},
   "outputs": [],
   "source": [
    "hper = []\n",
    "lper = []\n",
    "for j in range(400):\n",
    "    fst = []\n",
    "    snd = []\n",
    "    trd = []\n",
    "    for i in range(len(data[:,j:j+1])):\n",
    "        if data[i][475] == 1 and np.isfinite(data[i][j]):\n",
    "            fst.append(data[i][j])\n",
    "        elif data[i][475] == 0 and np.isfinite(data[i][j]):\n",
    "            snd.append(data[i][j])\n",
    "        elif data[i][475] == -1 and  np.isfinite(data[i][j]):\n",
    "            trd.append(data[i][j])\n",
    "    x,p = stats.kstest(fst,snd)\n",
    "    if p<0.005:\n",
    "        lper.append(p)\n",
    "    else:\n",
    "        hper.append(p) \n"
   ]
  },
  {
   "cell_type": "code",
   "execution_count": 3,
   "metadata": {},
   "outputs": [
    {
     "data": {
      "text/plain": [
       "0.75"
      ]
     },
     "execution_count": 3,
     "metadata": {},
     "output_type": "execute_result"
    }
   ],
   "source": [
    "ratio = len(lper)/(len(hper)+len(lper))\n",
    "ratio = ratio*100\n",
    "ratio"
   ]
  },
  {
   "cell_type": "code",
   "execution_count": null,
   "metadata": {},
   "outputs": [],
   "source": []
  }
 ],
 "metadata": {
  "kernelspec": {
   "display_name": "Python 3",
   "language": "python",
   "name": "python3"
  },
  "language_info": {
   "codemirror_mode": {
    "name": "ipython",
    "version": 3
   },
   "file_extension": ".py",
   "mimetype": "text/x-python",
   "name": "python",
   "nbconvert_exporter": "python",
   "pygments_lexer": "ipython3",
   "version": "3.7.1"
  }
 },
 "nbformat": 4,
 "nbformat_minor": 4
}
