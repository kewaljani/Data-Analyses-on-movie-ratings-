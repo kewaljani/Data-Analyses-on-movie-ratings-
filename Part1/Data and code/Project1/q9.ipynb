{
 "cells": [
  {
   "cell_type": "code",
   "execution_count": 5,
   "metadata": {},
   "outputs": [],
   "source": [
    "#Finding Nemo = 138\n",
    "#Home Alone = 285\n",
    "import numpy as np\n",
    "from scipy import stats\n",
    "import matplotlib.pyplot as plt\n",
    "data = np.genfromtxt('movieReplicationSet.csv', delimiter = ',',skip_header = 1)"
   ]
  },
  {
   "cell_type": "code",
   "execution_count": 6,
   "metadata": {},
   "outputs": [
    {
     "data": {
      "text/plain": [
       "6.379381467525036e-10"
      ]
     },
     "execution_count": 6,
     "metadata": {},
     "output_type": "execute_result"
    }
   ],
   "source": [
    "fnemo = data[:,138:139]\n",
    "temp = np.isfinite(fnemo)\n",
    "fnemo = fnemo[temp]\n",
    "halone = data[:,285:286]\n",
    "temp = np.isfinite(halone)\n",
    "halone = halone[temp]\n",
    "x,p = stats.kstest(fnemo,halone)\n",
    "p"
   ]
  },
  {
   "cell_type": "code",
   "execution_count": 7,
   "metadata": {},
   "outputs": [
    {
     "data": {
      "text/plain": [
       "1.3213127531267707e-10"
      ]
     },
     "execution_count": 7,
     "metadata": {},
     "output_type": "execute_result"
    }
   ],
   "source": [
    "M1 = data[:,138]\n",
    "M2 = data[:,285]\n",
    "temp = np.array([np.isnan(M1),np.isnan(M2)],dtype=bool)\n",
    "temp2 = temp*1 # convert boolean to int\n",
    "temp2 = sum(temp2) # take sum of each participant\n",
    "missingData = np.where(temp2>0) # find participants with missing data\n",
    "M1 = np.delete(M1,missingData) # delete missing data from array\n",
    "M2 = np.delete(M2,missingData) # delete missing data from array\n",
    "x,p = stats.ttest_ind(M1,M2)\n",
    "p"
   ]
  },
  {
   "cell_type": "code",
   "execution_count": null,
   "metadata": {},
   "outputs": [],
   "source": []
  }
 ],
 "metadata": {
  "kernelspec": {
   "display_name": "Python 3",
   "language": "python",
   "name": "python3"
  },
  "language_info": {
   "codemirror_mode": {
    "name": "ipython",
    "version": 3
   },
   "file_extension": ".py",
   "mimetype": "text/x-python",
   "name": "python",
   "nbconvert_exporter": "python",
   "pygments_lexer": "ipython3",
   "version": "3.7.1"
  }
 },
 "nbformat": 4,
 "nbformat_minor": 4
}
