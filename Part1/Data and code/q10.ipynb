{
 "cells": [
  {
   "cell_type": "code",
   "execution_count": 4,
   "metadata": {},
   "outputs": [],
   "source": []
  },
  {
   "cell_type": "code",
   "execution_count": 41,
   "metadata": {},
   "outputs": [],
   "source": [
    "import numpy as np\n",
    "import pandas as pd\n",
    "from scipy import stats\n",
    "import matplotlib.pyplot as plt\n",
    "data = np.genfromtxt('movieReplicationSet.csv', delimiter = ',',skip_header = 1)"
   ]
  },
  {
   "cell_type": "code",
   "execution_count": 64,
   "metadata": {},
   "outputs": [
    {
     "name": "stdout",
     "output_type": "stream",
     "text": [
      "1.0\n",
      "0.02728081937944372\n",
      "0.022647107975941303\n",
      "0.19543828059871474\n"
     ]
    }
   ],
   "source": [
    "#harry potter\n",
    "movi = [[2001, 0, 230], [2002, 3, 394], [2005, 2, 387], [2011, 1, 258]]\n",
    "M1 = data[:,movi[0][2]:movi[0][2]+1]\n",
    "for i in movi:\n",
    "    M2 = data[:,i[2]:i[2]+1]\n",
    "    temp = np.array([np.isnan(M1),np.isnan(M2)],dtype=bool)\n",
    "    temp2 = temp*1 \n",
    "    temp2 = sum(temp2) \n",
    "    missingData = np.where(temp2>0) \n",
    "    M = np.delete(M1,missingData) \n",
    "    M2 = np.delete(M2,missingData) \n",
    "    x,p = stats.kruskal(M,M2)\n",
    "    if p<0.005:\n",
    "        print(p, end=\" \")\n",
    "        print(\"inconsistent\")\n",
    "        break\n",
    "    print(p)"
   ]
  },
  {
   "cell_type": "code",
   "execution_count": 65,
   "metadata": {},
   "outputs": [
    {
     "name": "stdout",
     "output_type": "stream",
     "text": [
      "1.0\n",
      "0.8212452085198956\n",
      "0.2633502798734051\n",
      "2.8473981776672884e-17 inconsistent\n",
      "1.1656270685148234e-18 inconsistent\n",
      "0.9983581021405512\n"
     ]
    }
   ],
   "source": [
    "#star wars\n",
    "movi = [[1977, 0, 21],\n",
    " [1980, 2, 174],\n",
    " [1983, 5, 342],\n",
    " [1999, 3, 273],\n",
    " [2002, 1, 93],\n",
    " [2015, 4, 336]]\n",
    "M1 = data[:,movi[0][2]:movi[0][2]+1]\n",
    "for i in movi:\n",
    "    M2 = data[:,i[2]:i[2]+1]\n",
    "    temp = np.array([np.isnan(M1),np.isnan(M2)],dtype=bool)\n",
    "    temp2 = temp*1 \n",
    "    temp2 = sum(temp2) \n",
    "    missingData = np.where(temp2>0) \n",
    "    M = np.delete(M1,missingData) \n",
    "    M2 = np.delete(M2,missingData) \n",
    "    x,p = stats.kruskal(M,M2)\n",
    "    if p<0.005:\n",
    "        print(p, end=\" \")\n",
    "        print(\"inconsistent\")\n",
    "        continue\n",
    "    print(p)"
   ]
  },
  {
   "cell_type": "code",
   "execution_count": 66,
   "metadata": {},
   "outputs": [
    {
     "name": "stdout",
     "output_type": "stream",
     "text": [
      "1.0\n",
      "1.1988407938474366e-09 so it is inconsistent\n",
      "8.717044624946769e-09 so it is inconsistent\n"
     ]
    }
   ],
   "source": [
    "#matrix\n",
    "movi = [[1999, 2, 306], [2003, 0, 35], [2003, 1, 172]]\n",
    "M1 = data[:,movi[0][2]:movi[0][2]+1]\n",
    "for i in movi:\n",
    "    M2 = data[:,i[2]:i[2]+1]\n",
    "    temp = np.array([np.isnan(M1),np.isnan(M2)],dtype=bool)\n",
    "    temp2 = temp*1 \n",
    "    temp2 = sum(temp2) \n",
    "    missingData = np.where(temp2>0) \n",
    "    M = np.delete(M1,missingData) \n",
    "    M2 = np.delete(M2,missingData) \n",
    "    x,p = stats.kruskal(M,M2)\n",
    "    if p<0.005:\n",
    "        print(p, end=\" \")\n",
    "        print(\"so it is inconsistent\")\n",
    "        continue\n",
    "    print(p)"
   ]
  },
  {
   "cell_type": "code",
   "execution_count": 67,
   "metadata": {},
   "outputs": [
    {
     "name": "stdout",
     "output_type": "stream",
     "text": [
      "1.0\n",
      "0.00042469960305087395 so it is inconsistent\n",
      "0.034042963948048184\n",
      "5.394807380787714e-14 so it is inconsistent\n"
     ]
    }
   ],
   "source": [
    "#Indiana Jones\n",
    "movi = [[1981, 2, 33], [1984, 1, 32], [1989, 0, 4], [2008, 3, 142]]\n",
    "M1 = data[:,movi[0][2]:movi[0][2]+1]\n",
    "for i in movi:\n",
    "    M2 = data[:,i[2]:i[2]+1]\n",
    "    temp = np.array([np.isnan(M1),np.isnan(M2)],dtype=bool)\n",
    "    temp2 = temp*1 \n",
    "    temp2 = sum(temp2) \n",
    "    missingData = np.where(temp2>0) \n",
    "    M = np.delete(M1,missingData) \n",
    "    M2 = np.delete(M2,missingData) \n",
    "    x,p = stats.kruskal(M,M2)\n",
    "    if p<0.005:\n",
    "        print(p, end=\" \")\n",
    "        print(\"so it is inconsistent\")\n",
    "        continue\n",
    "    print(p)"
   ]
  },
  {
   "cell_type": "code",
   "execution_count": 68,
   "metadata": {},
   "outputs": [
    {
     "name": "stdout",
     "output_type": "stream",
     "text": [
      "1.0\n",
      "0.00012609035983887995 so it is inconsistent\n",
      "5.989602524231325e-13 so it is inconsistent\n"
     ]
    }
   ],
   "source": [
    "#Jurassic Park\n",
    "movi = [[1993, 2, 370], [1997, 0, 37], [2001, 1, 47]]\n",
    "M1 = data[:,movi[0][2]:movi[0][2]+1]\n",
    "for i in movi:\n",
    "    M2 = data[:,i[2]:i[2]+1]\n",
    "    temp = np.array([np.isnan(M1),np.isnan(M2)],dtype=bool)\n",
    "    temp2 = temp*1 \n",
    "    temp2 = sum(temp2) \n",
    "    missingData = np.where(temp2>0) \n",
    "    M = np.delete(M1,missingData) \n",
    "    M2 = np.delete(M2,missingData) \n",
    "    x,p = stats.kruskal(M,M2)\n",
    "    if p<0.005:\n",
    "        print(p, end=\" \")\n",
    "        print(\"so it is inconsistent\")\n",
    "        continue\n",
    "    print(p)"
   ]
  },
  {
   "cell_type": "code",
   "execution_count": 69,
   "metadata": {},
   "outputs": [
    {
     "name": "stdout",
     "output_type": "stream",
     "text": [
      "0.9999994507576239\n",
      "0.0904331861131403\n",
      "0.0066378843583502585\n"
     ]
    }
   ],
   "source": [
    "#Pirates of the Caribbean\n",
    "movi = [[2003, 2, 351], [2006, 0, 75], [2007, 1, 204]]\n",
    "M1 = data[:,movi[0][2]:movi[0][2]+1]\n",
    "for i in movi:\n",
    "    M2 = data[:,i[2]:i[2]+1]\n",
    "    temp = np.array([np.isnan(M1),np.isnan(M2)],dtype=bool)\n",
    "    temp2 = temp*1 \n",
    "    temp2 = sum(temp2) \n",
    "    missingData = np.where(temp2>0) \n",
    "    M = np.delete(M1,missingData) \n",
    "    M2 = np.delete(M2,missingData) \n",
    "    x,p = stats.kruskal(M,M2)\n",
    "    if p<0.005:\n",
    "        print(p, end=\" \")\n",
    "        print(\"so it is inconsistent\")\n",
    "        continue\n",
    "    print(p)"
   ]
  },
  {
   "cell_type": "code",
   "execution_count": 78,
   "metadata": {},
   "outputs": [
    {
     "name": "stdout",
     "output_type": "stream",
     "text": [
      "1.0\n",
      "2.7976526895003455e-07 so it is inconsistent for part 2\n",
      "0.05530294599659028\n"
     ]
    }
   ],
   "source": [
    "#Toy Story\n",
    "movi= [[1995, 2, 276], [1999, 0, 157], [2010, 1, 171]]\n",
    "count = 0\n",
    "M1 = data[:,movi[0][2]:movi[0][2]+1]\n",
    "for i in movi:\n",
    "    M2 = data[:,i[2]:i[2]+1]\n",
    "    count+=1\n",
    "    temp = np.array([np.isnan(M1),np.isnan(M2)],dtype=bool)\n",
    "    temp2 = temp*1 \n",
    "    temp2 = sum(temp2) \n",
    "    missingData = np.where(temp2>0) \n",
    "    M = np.delete(M1,missingData) \n",
    "    M2 = np.delete(M2,missingData) \n",
    "    x,p = stats.kruskal(M,M2)\n",
    "    if p<0.005:\n",
    "        print(p, end=\" \")\n",
    "        print(\"so it is inconsistent for part \"+str(count))\n",
    "        continue\n",
    "    print(p)"
   ]
  },
  {
   "cell_type": "code",
   "execution_count": 84,
   "metadata": {},
   "outputs": [
    {
     "name": "stdout",
     "output_type": "stream",
     "text": [
      "mean = 2.819371727748691 1.0\n",
      "mean = 2.3517786561264824 Value of P = 2.8387482430591695e-07 so it is inconsistent for part 2\n",
      "mean = 3.2570977917981074 Value of P = 9.758071289718428e-12 so it is inconsistent for part 3\n"
     ]
    }
   ],
   "source": [
    "#Batman\n",
    "movi = [[1989, 1, 181], [1997, 0, 46], [2008, 2, 235]]\n",
    "count = 0\n",
    "M1 = data[:,movi[0][2]:movi[0][2]+1]\n",
    "for i in movi:\n",
    "    M2 = data[:,i[2]:i[2]+1]\n",
    "    \n",
    "    count+=1\n",
    "    temp = np.array([np.isnan(M1),np.isnan(M2)],dtype=bool)\n",
    "    temp2 = temp*1 \n",
    "    temp2 = sum(temp2) \n",
    "    missingData = np.where(temp2>0) \n",
    "    M = np.delete(M1,missingData) \n",
    "    M2 = np.delete(M2,missingData)\n",
    "    print(\"mean = \"+str(np.mean(M2)), end = \" \")\n",
    "    x,p = stats.kruskal(M,M2)\n",
    "    if p<0.005:\n",
    "        print(\"Value of P = \"+str(p), end=\" \")\n",
    "        print(\"so it is inconsistent for part \"+str(count))\n",
    "        continue\n",
    "    print(p)"
   ]
  },
  {
   "cell_type": "code",
   "execution_count": null,
   "metadata": {},
   "outputs": [],
   "source": [
    "#"
   ]
  }
 ],
 "metadata": {
  "kernelspec": {
   "display_name": "Python 3",
   "language": "python",
   "name": "python3"
  },
  "language_info": {
   "codemirror_mode": {
    "name": "ipython",
    "version": 3
   },
   "file_extension": ".py",
   "mimetype": "text/x-python",
   "name": "python",
   "nbconvert_exporter": "python",
   "pygments_lexer": "ipython3",
   "version": "3.7.1"
  }
 },
 "nbformat": 4,
 "nbformat_minor": 4
}
