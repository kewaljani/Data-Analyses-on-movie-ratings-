{
 "cells": [
  {
   "cell_type": "code",
   "execution_count": 1,
   "metadata": {},
   "outputs": [],
   "source": [
    "import numpy as np\n",
    "from scipy import stats\n",
    "import matplotlib.pyplot as plt\n",
    "data = np.genfromtxt('movieReplicationSet.csv', delimiter = ',',)"
   ]
  },
  {
   "cell_type": "code",
   "execution_count": 2,
   "metadata": {},
   "outputs": [],
   "source": [
    "import pandas as pd\n",
    "df = pd.read_csv('movieReplicationSet.csv',skipinitialspace=True)\n",
    "titles = df.columns[0:400]\n",
    "titles = titles.values.tolist()\n"
   ]
  },
  {
   "cell_type": "code",
   "execution_count": 3,
   "metadata": {},
   "outputs": [
    {
     "data": {
      "text/plain": [
       "23"
      ]
     },
     "execution_count": 3,
     "metadata": {},
     "output_type": "execute_result"
    }
   ],
   "source": [
    "hMed = [[]]\n",
    "hTitles = []\n",
    "lTitles = [[]]\n",
    "lMed = [[]]\n",
    "x,y = data.shape\n",
    "population = [] \n",
    "popMean = []\n",
    "\n",
    "for i in range(400):\n",
    "    temp = data[:,i:i+1]\n",
    "    temp2  = np.isfinite(data[:,i:i+1])\n",
    "    temp = temp[temp2]\n",
    "    temp = temp.tolist()\n",
    "    if len(temp)> 197.5:\n",
    "        hMed[0].extend(temp)\n",
    "        hTitles.extend([titles[i]])\n",
    "    else:\n",
    "        lMed[0].extend(temp)\n",
    "        lTitles[0].extend([titles[i]])\n",
    "len(hTitles[0])"
   ]
  },
  {
   "cell_type": "code",
   "execution_count": 4,
   "metadata": {},
   "outputs": [
    {
     "data": {
      "text/plain": [
       "(2.450613636363636, 2.9234764005586715)"
      ]
     },
     "execution_count": 4,
     "metadata": {},
     "output_type": "execute_result"
    }
   ],
   "source": [
    "np.mean(lMed[0]) , np.mean(hMed[0])\n"
   ]
  },
  {
   "cell_type": "code",
   "execution_count": 5,
   "metadata": {},
   "outputs": [
    {
     "data": {
      "text/plain": [
       "(KruskalResult(statistic=3483.559523151823, pvalue=0.0), 0.0, 0.0)"
      ]
     },
     "execution_count": 5,
     "metadata": {},
     "output_type": "execute_result"
    }
   ],
   "source": [
    "p = stats.kruskal(lMed[0],hMed[0])\n",
    "t3,p3 = stats.ttest_ind(lMed[0],hMed[0])\n",
    "u1,p1 = stats.mannwhitneyu(lMed[0],hMed[0])\n",
    "p ,p1 , p3"
   ]
  },
  {
   "cell_type": "code",
   "execution_count": null,
   "metadata": {},
   "outputs": [],
   "source": []
  }
 ],
 "metadata": {
  "kernelspec": {
   "display_name": "Python 3",
   "language": "python",
   "name": "python3"
  },
  "language_info": {
   "codemirror_mode": {
    "name": "ipython",
    "version": 3
   },
   "file_extension": ".py",
   "mimetype": "text/x-python",
   "name": "python",
   "nbconvert_exporter": "python",
   "pygments_lexer": "ipython3",
   "version": "3.7.1"
  }
 },
 "nbformat": 4,
 "nbformat_minor": 4
}
