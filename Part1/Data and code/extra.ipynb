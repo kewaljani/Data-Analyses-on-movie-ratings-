{
 "cells": [
  {
   "cell_type": "code",
   "execution_count": 3,
   "metadata": {},
   "outputs": [
    {
     "data": {
      "text/plain": [
       "array([[nan],\n",
       "       [nan],\n",
       "       [nan],\n",
       "       ...,\n",
       "       [nan],\n",
       "       [nan],\n",
       "       [2.5]])"
      ]
     },
     "execution_count": 3,
     "metadata": {},
     "output_type": "execute_result"
    }
   ],
   "source": [
    "import numpy as np\n",
    "from scipy import stats\n",
    "import matplotlib.pyplot as plt\n",
    "data = np.genfromtxt('movieReplicationSet.csv', delimiter = ',',skip_header = 1)\n",
    "data[:,205:206]"
   ]
  },
  {
   "cell_type": "code",
   "execution_count": 11,
   "metadata": {},
   "outputs": [
    {
     "name": "stdout",
     "output_type": "stream",
     "text": [
      "0.988391992186079\n",
      "2.4610655737704916\n",
      "2.412280701754386\n",
      "0.8121477522294573\n",
      "2.477223427331887\n",
      "2.4692307692307693\n"
     ]
    }
   ],
   "source": [
    "fst = []\n",
    "snd = []\n",
    "trd = []\n",
    "for i in range(len(data[:,476:477])):\n",
    "    if data[i][476] == 1 and np.isfinite(data[i][74]):\n",
    "        fst.append(data[i][74])\n",
    "    elif data[i][476] == 0 and np.isfinite(data[i][74]):\n",
    "        snd.append(data[i][74])\n",
    "    elif data[i][476] == -1  and  np.isfinite(data[i][74]):\n",
    "        trd.append(data[i][74])\n",
    "        \n",
    "x,p = stats.kstest(fst,snd)\n",
    "print(p)\n",
    "print(np.mean(fst))\n",
    "print(np.mean(snd))\n",
    "for i in range(len(data[:,476:477])):\n",
    "    if data[i][476] == 1 and np.isfinite(data[i][205]):\n",
    "        fst.append(data[i][205])\n",
    "    elif data[i][476] == 0 and np.isfinite(data[i][205]):\n",
    "        snd.append(data[i][205])\n",
    "    elif data[i][476] == -1  and  np.isfinite(data[i][205]):\n",
    "        trd.append(data[i][205])\n",
    "x,p = stats.kstest(fst,snd)\n",
    "print(p)\n",
    "print(np.mean(fst))\n",
    "print(np.mean(snd))"
   ]
  },
  {
   "cell_type": "code",
   "execution_count": null,
   "metadata": {},
   "outputs": [],
   "source": []
  }
 ],
 "metadata": {
  "kernelspec": {
   "display_name": "Python 3",
   "language": "python",
   "name": "python3"
  },
  "language_info": {
   "codemirror_mode": {
    "name": "ipython",
    "version": 3
   },
   "file_extension": ".py",
   "mimetype": "text/x-python",
   "name": "python",
   "nbconvert_exporter": "python",
   "pygments_lexer": "ipython3",
   "version": "3.7.1"
  }
 },
 "nbformat": 4,
 "nbformat_minor": 4
}
