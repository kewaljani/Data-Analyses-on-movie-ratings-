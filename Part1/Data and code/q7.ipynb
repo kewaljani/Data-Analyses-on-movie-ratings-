{
 "cells": [
  {
   "cell_type": "code",
   "execution_count": 3,
   "metadata": {},
   "outputs": [],
   "source": [
    "import numpy as np\n",
    "from scipy import stats\n",
    "import matplotlib.pyplot as plt\n",
    "data = np.genfromtxt('movieReplicationSet.csv', delimiter = ',',skip_header = 1)"
   ]
  },
  {
   "cell_type": "code",
   "execution_count": 4,
   "metadata": {},
   "outputs": [
    {
     "data": {
      "text/plain": [
       "0.49837656470415104"
      ]
     },
     "execution_count": 4,
     "metadata": {},
     "output_type": "execute_result"
    }
   ],
   "source": [
    "fst = []\n",
    "snd = []\n",
    "trd = []\n",
    "for i in range(len(data[:,476:477])):\n",
    "    if data[i][476] == 1 and np.isfinite(data[i][357]):\n",
    "        fst.append(data[i][357])\n",
    "    elif data[i][476] == 0 and np.isfinite(data[i][357]):\n",
    "        snd.append(data[i][357])\n",
    "    elif data[i][476] == -1  and  np.isfinite(data[i][357]):\n",
    "        trd.append(data[i][357])\n",
    "        \n",
    "x,p = stats.kstest(fst,snd)\n",
    "p"
   ]
  },
  {
   "cell_type": "code",
   "execution_count": null,
   "metadata": {},
   "outputs": [],
   "source": []
  }
 ],
 "metadata": {
  "kernelspec": {
   "display_name": "Python 3",
   "language": "python",
   "name": "python3"
  },
  "language_info": {
   "codemirror_mode": {
    "name": "ipython",
    "version": 3
   },
   "file_extension": ".py",
   "mimetype": "text/x-python",
   "name": "python",
   "nbconvert_exporter": "python",
   "pygments_lexer": "ipython3",
   "version": "3.7.1"
  }
 },
 "nbformat": 4,
 "nbformat_minor": 4
}
