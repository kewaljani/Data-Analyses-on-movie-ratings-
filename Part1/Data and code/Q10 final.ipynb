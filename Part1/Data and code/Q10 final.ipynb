{
 "cells": [
  {
   "cell_type": "code",
   "execution_count": 8,
   "metadata": {},
   "outputs": [],
   "source": [
    "import numpy as np\n",
    "from scipy import stats\n",
    "import matplotlib.pyplot as plt\n",
    "data = np.genfromtxt('movieReplicationSet.csv', delimiter = ',',skip_header = 1)"
   ]
  },
  {
   "cell_type": "code",
   "execution_count": 9,
   "metadata": {},
   "outputs": [],
   "source": [
    "import pandas as pd\n",
    "df = pd.read_csv('movieReplicationSet.csv',skipinitialspace=True)\n",
    "titles = df.columns[0:400]\n",
    "titles = titles.values.tolist()"
   ]
  },
  {
   "cell_type": "code",
   "execution_count": 10,
   "metadata": {},
   "outputs": [
    {
     "name": "stdout",
     "output_type": "stream",
     "text": [
      "The Life of David Gale (2003)\n"
     ]
    },
    {
     "data": {
      "text/plain": [
       "400"
      ]
     },
     "execution_count": 10,
     "metadata": {},
     "output_type": "execute_result"
    }
   ],
   "source": [
    "hMed = [[]]\n",
    "hTitles = [[]]\n",
    "lTitles = [[]]\n",
    "lMed = [[]]\n",
    "x,y = data.shape\n",
    "print(titles[0])\n",
    "population = [] \n",
    "popMean = []\n",
    "for i in range(400):\n",
    "    if titles[i][-5:-1:1].isnumeric():\n",
    "        lTitles.append([titles[i],i])\n",
    "len(lTitles)"
   ]
  },
  {
   "cell_type": "code",
   "execution_count": 7,
   "metadata": {},
   "outputs": [
    {
     "name": "stdout",
     "output_type": "stream",
     "text": [
      "Movie The ring\n",
      "[['The Lord of the Rings: The Fellowship of the Ring (2001)', 124], ['The Lord of the Rings: The Two Towers (2002)', 198], ['The Ring (2002)', 205], ['The Lord of the Rings: The Return of the King (2003)', 307]]\n",
      "mean = 2.9980582524271844 1.0\n",
      "mean = 3.0521064301552108 0.9999915746673989\n",
      "mean = 2.50418410041841 Value of P = 0.0005893766590356306 so it is inconsistent for part 3\n",
      "mean = 3.066585956416465 0.9999741908321189\n",
      "Overall inconsistent\n",
      "Movie Star Wars\n",
      "[['Star Wars: Episode IV - A New Hope (1977)', 21], ['Star Wars: Episode II - Attack of the Clones (2002)', 93], ['Star Wars: Episode V - The Empire Strikes Back (1980)', 174], ['Star Wars: Episode 1 - The Phantom Menace (1999)', 273], ['Star Wars: Episode VII - The Force Awakens (2015)', 336], ['Star Wars: Episode VI - The Return of the Jedi (1983)', 342]]\n",
      "mean = 2.970695970695971 1.0\n",
      "mean = 3.126637554585153 0.9999998185342558\n",
      "mean = 3.0867469879518072 0.8777231858355168\n",
      "mean = 2.5060679611650487 Value of P = 1.2828538842695151e-12 so it is inconsistent for part 4\n",
      "mean = 2.477894736842105 Value of P = 4.228239538620828e-15 so it is inconsistent for part 5\n",
      "mean = 3.152744630071599 0.9954843661654245\n",
      "Overall inconsistent\n",
      "Movie Harry Potter\n",
      "[[\"Harry Potter and the Sorcerer's Stone (2001)\", 230], ['Harry Potter and the Deathly Hallows: Part 2 (2011)', 258], ['Harry Potter and the Goblet of Fire (2005)', 387], ['Harry Potter and the Chamber of Secrets (2002)', 394]]\n",
      "mean = 3.3344827586206898 1.0\n",
      "mean = 3.292134831460674 0.22089418515308568\n",
      "mean = 3.3238341968911915 0.08917834639555727\n",
      "mean = 3.3331202046035804 0.4509018389309835\n",
      "Overall consistent\n",
      "Movie The Matrix\n",
      "[['The Matrix Revolutions (2003)', 35], ['The Matrix Reloaded (2003)', 172], ['The Matrix (1999)', 306]]\n",
      "mean = 3.118712273641851 1.0\n",
      "mean = 2.7476340694006307 Value of P = 1.2870162941289269e-08 so it is inconsistent for part 2\n",
      "mean = 2.8069306930693068 Value of P = 1.4720790334348141e-08 so it is inconsistent for part 3\n",
      "Overall inconsistent\n",
      "Movie Indiana Jones\n",
      "[['Indiana Jones and the Last Crusade (1989)', 4], ['Indiana Jones and the Temple of Doom (1984)', 32], ['Indiana Jones and the Raiders of the Lost Ark (1981)', 33], ['Indiana Jones and the Kingdom of the Crystal Skull (2008)', 142]]\n",
      "mean = 2.965217391304348 1.0\n",
      "mean = 2.7911184210526314 Value of P = 0.0013734279685529618 so it is inconsistent for part 2\n",
      "mean = 2.857638888888889 0.10785099672172843\n",
      "mean = 2.420955882352941 Value of P = 1.6576339781059617e-09 so it is inconsistent for part 4\n",
      "Overall inconsistent\n",
      "Movie Jurassic Park\n",
      "[['The Lost World: Jurassic Park (1997)', 37], ['Jurassic Park III (2001)', 47], ['Jurassic Park (1993)', 370]]\n",
      "mean = 3.028380634390651 1.0\n",
      "mean = 2.917197452229299 Value of P = 0.002000201183754492 so it is inconsistent for part 2\n",
      "mean = 2.692650334075724 Value of P = 7.6550160774935e-09 so it is inconsistent for part 3\n",
      "Overall inconsistent\n",
      "Movie Pirates of the Caribbean\n",
      "[[\"Pirates of the Caribbean: Dead Man's Chest (2006)\", 75], [\"Pirates of the Caribbean: At World's End (2007)\", 204], ['Pirates of the Caribbean: The Curse of the Black Pearl (2003)', 351]]\n",
      "mean = 3.018628912071535 1.0\n",
      "mean = 2.968949044585987 0.20053178224878912\n",
      "mean = 2.895869191049914 0.07140404517290821\n",
      "Overall consistent\n",
      "Movie Toy Story\n",
      "[['Toy Story 2 (1999)', 157], ['Toy Story 3 (2010)', 171], ['Toy Story (1995)', 276]]\n",
      "mean = 3.2913513513513513 1.0\n",
      "mean = 3.1623222748815167 Value of P = 1.7747521804912902e-05 so it is inconsistent for part 2\n",
      "mean = 3.285 0.2202893027767536\n",
      "Overall inconsistent\n",
      "Movie Batman\n",
      "[['Batman & Robin (1997)', 46], ['Batman (1989)', 181], ['Batman: The Dark Knight (2008)', 235]]\n",
      "mean = 2.819371727748691 1.0\n",
      "mean = 2.3517786561264824 Value of P = 0.00014509538489768884 so it is inconsistent for part 2\n",
      "mean = 3.2570977917981074 Value of P = 4.71955342227562e-09 so it is inconsistent for part 3\n",
      "Overall inconsistent\n"
     ]
    }
   ],
   "source": [
    "from operator import itemgetter\n",
    "movies = ['Star Wars', 'Harry Potter', 'The Matrix', 'Indiana Jones', 'Jurassic Park', 'Pirates of the Caribbean', 'Toy Story', 'Batman']\n",
    "\n",
    "for x in  movies:\n",
    "    found = []\n",
    "    rank = []\n",
    "    flag = 0\n",
    "    print(\"Movie \"+str(x))\n",
    "    for i  in range(1,400):  \n",
    "        if x.lower() in lTitles[i][0].lower():\n",
    "            found.append(lTitles[i])\n",
    "    print(found)\n",
    "    for i in range(len(found)):\n",
    "       #print(found[i][0][-5:-1:1])\n",
    "        if found[i][0][-5:-1:1].isnumeric():\n",
    "            rank.append([int(found[i][0][-5:-1:1]),i,found[i][1]])\n",
    "    movi = sorted(rank, key = itemgetter(0))\n",
    "    \n",
    "    count = 0\n",
    "    M1 = data[:,movi[0][2]:movi[0][2]+1]\n",
    "    for i in movi:\n",
    "        M2 = data[:,i[2]:i[2]+1]\n",
    "\n",
    "        count+=1\n",
    "        temp = np.array([np.isnan(M1),np.isnan(M2)],dtype=bool)\n",
    "        temp2 = temp*1 \n",
    "        temp2 = sum(temp2) \n",
    "        missingData = np.where(temp2>0) \n",
    "        M = np.delete(M1,missingData) \n",
    "        M2 = np.delete(M2,missingData)\n",
    "        print(\"mean = \"+str(np.mean(M2)), end = \" \")\n",
    "        x,p = stats.kstest(M,M2)\n",
    "        if p<0.005:\n",
    "            print(\"Value of P = \"+str(p), end=\" \")\n",
    "            print(\"so it is inconsistent for part \"+str(count))\n",
    "            flag =1\n",
    "            continue\n",
    "        print(p)\n",
    "    if flag:\n",
    "        print(\"Overall inconsistent\")\n",
    "    else:\n",
    "        print(\"Overall consistent\")"
   ]
  },
  {
   "cell_type": "code",
   "execution_count": null,
   "metadata": {},
   "outputs": [],
   "source": []
  },
  {
   "cell_type": "code",
   "execution_count": null,
   "metadata": {},
   "outputs": [],
   "source": []
  },
  {
   "cell_type": "code",
   "execution_count": null,
   "metadata": {},
   "outputs": [],
   "source": []
  },
  {
   "cell_type": "code",
   "execution_count": null,
   "metadata": {},
   "outputs": [],
   "source": []
  }
 ],
 "metadata": {
  "kernelspec": {
   "display_name": "Python 3",
   "language": "python",
   "name": "python3"
  },
  "language_info": {
   "codemirror_mode": {
    "name": "ipython",
    "version": 3
   },
   "file_extension": ".py",
   "mimetype": "text/x-python",
   "name": "python",
   "nbconvert_exporter": "python",
   "pygments_lexer": "ipython3",
   "version": "3.7.1"
  }
 },
 "nbformat": 4,
 "nbformat_minor": 4
}
